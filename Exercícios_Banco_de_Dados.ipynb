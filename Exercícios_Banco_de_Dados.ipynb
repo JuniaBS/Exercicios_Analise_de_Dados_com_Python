{
  "nbformat": 4,
  "nbformat_minor": 0,
  "metadata": {
    "colab": {
      "provenance": [],
      "authorship_tag": "ABX9TyMKJ7vzuvTj1I0TJ4ePXkor",
      "include_colab_link": true
    },
    "kernelspec": {
      "name": "python3",
      "display_name": "Python 3"
    },
    "language_info": {
      "name": "python"
    }
  },
  "cells": [
    {
      "cell_type": "markdown",
      "metadata": {
        "id": "view-in-github",
        "colab_type": "text"
      },
      "source": [
        "<a href=\"https://colab.research.google.com/github/JuniaBS/Exercicios_Analise_de_Dados_com_Python/blob/main/Exerc%C3%ADcios_Banco_de_Dados.ipynb\" target=\"_parent\"><img src=\"https://colab.research.google.com/assets/colab-badge.svg\" alt=\"Open In Colab\"/></a>"
      ]
    },
    {
      "cell_type": "markdown",
      "source": [],
      "metadata": {
        "id": "4hyZvwMbBrbi"
      }
    },
    {
      "cell_type": "markdown",
      "source": [
        "# Exercícios Banco de Dados"
      ],
      "metadata": {
        "id": "RQyX9eZCBtMt"
      }
    },
    {
      "cell_type": "code",
      "source": [
        "import sqlite3\n",
        "\n",
        "conexao = sqlite3.connect('Banco_exercicio')\n",
        "cursor = conexao.cursor()"
      ],
      "metadata": {
        "id": "o_V0Zn3lB3At"
      },
      "execution_count": 1,
      "outputs": []
    },
    {
      "cell_type": "markdown",
      "source": [
        "1. Crie uma tabela chamada \"alunos\" com os seguintes campos: id\n",
        "(inteiro), nome (texto), idade (inteiro) e curso (texto)."
      ],
      "metadata": {
        "id": "XISoPkJGB_fs"
      }
    },
    {
      "cell_type": "code",
      "source": [
        "cursor.execute('CREATE TABLE alunos(id INT, nome VARCHAR (100), idade INT, curso VARCHAR(100));')"
      ],
      "metadata": {
        "collapsed": true,
        "id": "aGYcllyzB5PO"
      },
      "execution_count": null,
      "outputs": []
    },
    {
      "cell_type": "markdown",
      "source": [
        "2. Insira pelo menos 5 registros de alunos na tabela que você criou no\n",
        "exercício anterior."
      ],
      "metadata": {
        "id": "v0DavVFqCLoo"
      }
    },
    {
      "cell_type": "code",
      "source": [
        "cursor.execute('INSERT INTO alunos (id, nome, idade, curso) VALUES (1,\"Camila\",20, \"Direito\")')\n",
        "cursor.execute('INSERT INTO alunos (id, nome, idade, curso) VALUES (2,\"Alessandra\",35, \"Engenharia\")')\n",
        "cursor.execute('INSERT INTO alunos (id, nome, idade, curso) VALUES (3,\"Jessica\",25, \"Medicina\")')\n",
        "cursor.execute('INSERT INTO alunos (id, nome, idade, curso) VALUES (4,\"Pedro\",40, \"Historia\")')\n",
        "cursor.execute('INSERT INTO alunos (id, nome, idade, curso) VALUES (5,\"Bruno\",30, \"Engenharia\")')"
      ],
      "metadata": {
        "id": "kXKmQ7lrCN0A"
      },
      "execution_count": null,
      "outputs": []
    },
    {
      "cell_type": "markdown",
      "source": [
        "3. Consultas Básicas"
      ],
      "metadata": {
        "id": "WITouta6CSco"
      }
    },
    {
      "cell_type": "markdown",
      "source": [
        "Escreva consultas SQL para realizar as seguintes tarefas:\n"
      ],
      "metadata": {
        "id": "mbhVHCy6CVDi"
      }
    },
    {
      "cell_type": "markdown",
      "source": [
        "a) Selecionar todos os registros da tabela \"alunos\""
      ],
      "metadata": {
        "id": "I44AP99SCiZS"
      }
    },
    {
      "cell_type": "code",
      "source": [
        "dados= cursor.execute('SELECT * FROM alunos')\n",
        "for alunos in dados:\n",
        "    print(alunos)"
      ],
      "metadata": {
        "colab": {
          "base_uri": "https://localhost:8080/"
        },
        "id": "Z7aDY_ygCc8p",
        "outputId": "10fdc5a8-832d-499b-e802-600c76c6beee"
      },
      "execution_count": 5,
      "outputs": [
        {
          "output_type": "stream",
          "name": "stdout",
          "text": [
            "(1, 'Camila', 20, 'Direito')\n",
            "(2, 'Alessandra', 35, 'Engenharia')\n",
            "(3, 'Jessica', 26, 'Medicina')\n",
            "(4, 'Pedro', 40, 'Historia')\n",
            "(1, 'Camila', 20, 'Direito')\n",
            "(2, 'Alessandra', 35, 'Engenharia')\n",
            "(3, 'Jessica', 25, 'Medicina')\n",
            "(4, 'Pedro', 40, 'Historia')\n",
            "(5, 'Bruno', 30, 'Engenharia')\n"
          ]
        }
      ]
    },
    {
      "cell_type": "markdown",
      "source": [
        "b) Selecionar o nome e a idade dos alunos com mais de 20 anos."
      ],
      "metadata": {
        "id": "6cyvJrgtCoq8"
      }
    },
    {
      "cell_type": "code",
      "source": [
        "dados= cursor.execute('SELECT nome, idade FROM alunos WHERE idade > 20')\n",
        "for alunos in dados:\n",
        "    print(alunos)"
      ],
      "metadata": {
        "colab": {
          "base_uri": "https://localhost:8080/"
        },
        "id": "xFvWmcZCCqyL",
        "outputId": "f295500c-b1a0-4188-f660-bd39fca73c9b"
      },
      "execution_count": 6,
      "outputs": [
        {
          "output_type": "stream",
          "name": "stdout",
          "text": [
            "('Alessandra', 35)\n",
            "('Jessica', 26)\n",
            "('Pedro', 40)\n",
            "('Alessandra', 35)\n",
            "('Jessica', 25)\n",
            "('Pedro', 40)\n",
            "('Bruno', 30)\n"
          ]
        }
      ]
    },
    {
      "cell_type": "markdown",
      "source": [
        "c) Selecionar os alunos do curso de \"Engenharia\" em ordem alfabética."
      ],
      "metadata": {
        "id": "jj4AIG2-DUzE"
      }
    },
    {
      "cell_type": "code",
      "source": [
        "dados = cursor.execute('SELECT nome FROM alunos WHERE curso = \"Engenharia\" ORDER BY nome ASC')\n",
        "for alunos in dados:\n",
        "    print(alunos)"
      ],
      "metadata": {
        "colab": {
          "base_uri": "https://localhost:8080/"
        },
        "id": "gZEJACdaDVkR",
        "outputId": "8c28a7c0-6841-437d-9d0d-ffd3c3a84d41"
      },
      "execution_count": 7,
      "outputs": [
        {
          "output_type": "stream",
          "name": "stdout",
          "text": [
            "('Alessandra',)\n",
            "('Alessandra',)\n",
            "('Bruno',)\n"
          ]
        }
      ]
    },
    {
      "cell_type": "markdown",
      "source": [
        "d) Contar o número total de alunos na tabela"
      ],
      "metadata": {
        "id": "cch8ATAGDYmJ"
      }
    },
    {
      "cell_type": "code",
      "source": [
        "cursor.execute('SELECT COUNT(*) FROM alunos')\n",
        "numero_de_alunos = cursor.fetchone()[0]\n",
        "print(f'O número de alunos é: {numero_de_alunos}')"
      ],
      "metadata": {
        "colab": {
          "base_uri": "https://localhost:8080/"
        },
        "id": "gbyAonJtDbXi",
        "outputId": "e80bda72-3df6-4af7-9ba6-6f7c4a673f0d"
      },
      "execution_count": 8,
      "outputs": [
        {
          "output_type": "stream",
          "name": "stdout",
          "text": [
            "O número de alunos é: 9\n"
          ]
        }
      ]
    },
    {
      "cell_type": "markdown",
      "source": [
        "4. Atualização e Remoção"
      ],
      "metadata": {
        "id": "H9iIQ7lMDeJq"
      }
    },
    {
      "cell_type": "markdown",
      "source": [
        " a) Atualize a idade de um aluno específico na tabela."
      ],
      "metadata": {
        "id": "7QJeyS0ZDieM"
      }
    },
    {
      "cell_type": "code",
      "source": [
        "cursor.execute('UPDATE alunos SET idade = 26 WHERE nome = \"Jessica\"')"
      ],
      "metadata": {
        "colab": {
          "base_uri": "https://localhost:8080/"
        },
        "id": "Ze5oj8AdDgUi",
        "outputId": "efbb5929-7071-45a6-e7ed-8c577c44b311"
      },
      "execution_count": 9,
      "outputs": [
        {
          "output_type": "execute_result",
          "data": {
            "text/plain": [
              "<sqlite3.Cursor at 0x7e7caae439c0>"
            ]
          },
          "metadata": {},
          "execution_count": 9
        }
      ]
    },
    {
      "cell_type": "code",
      "source": [
        "dados = cursor.execute('SELECT nome, idade FROM alunos WHERE nome = \"Jessica\"')\n",
        "for alunos in dados:\n",
        "    print(alunos)"
      ],
      "metadata": {
        "colab": {
          "base_uri": "https://localhost:8080/"
        },
        "id": "80y2tX2eDlwE",
        "outputId": "180db0ce-72b5-400a-a250-167d6c2b1d65"
      },
      "execution_count": 10,
      "outputs": [
        {
          "output_type": "stream",
          "name": "stdout",
          "text": [
            "('Jessica', 26)\n",
            "('Jessica', 26)\n"
          ]
        }
      ]
    },
    {
      "cell_type": "markdown",
      "source": [
        "b) Remova um aluno pelo seu ID."
      ],
      "metadata": {
        "id": "WicfJv_SDts7"
      }
    },
    {
      "cell_type": "code",
      "source": [
        "cursor.execute('DELETE FROM alunos WHERE id = 5')"
      ],
      "metadata": {
        "colab": {
          "base_uri": "https://localhost:8080/"
        },
        "id": "b6JnpsfPDuU0",
        "outputId": "5bdfa8f1-c938-42f7-a89c-610320a373d0"
      },
      "execution_count": 11,
      "outputs": [
        {
          "output_type": "execute_result",
          "data": {
            "text/plain": [
              "<sqlite3.Cursor at 0x7e7caae439c0>"
            ]
          },
          "metadata": {},
          "execution_count": 11
        }
      ]
    },
    {
      "cell_type": "code",
      "source": [
        "dados= cursor.execute('SELECT * FROM alunos')\n",
        "for alunos in dados:\n",
        "    print(alunos)"
      ],
      "metadata": {
        "colab": {
          "base_uri": "https://localhost:8080/"
        },
        "id": "lQ5GriylD2ZS",
        "outputId": "01d20ee1-9776-4daa-e357-be79a6aa4d6d"
      },
      "execution_count": 12,
      "outputs": [
        {
          "output_type": "stream",
          "name": "stdout",
          "text": [
            "(1, 'Camila', 20, 'Direito')\n",
            "(2, 'Alessandra', 35, 'Engenharia')\n",
            "(3, 'Jessica', 26, 'Medicina')\n",
            "(4, 'Pedro', 40, 'Historia')\n",
            "(1, 'Camila', 20, 'Direito')\n",
            "(2, 'Alessandra', 35, 'Engenharia')\n",
            "(3, 'Jessica', 26, 'Medicina')\n",
            "(4, 'Pedro', 40, 'Historia')\n"
          ]
        }
      ]
    },
    {
      "cell_type": "markdown",
      "source": [
        " 5. Criar uma Tabela e Inserir Dados"
      ],
      "metadata": {
        "id": "nPfxIo_7D3it"
      }
    },
    {
      "cell_type": "markdown",
      "source": [
        "Crie uma tabela chamada \"clientes\" com os campos: id (chave\n",
        "primária), nome (texto), idade (inteiro) e saldo (float). Insira alguns\n",
        "registros de clientes na tabela."
      ],
      "metadata": {
        "id": "a7Wgi2eFD6MO"
      }
    },
    {
      "cell_type": "code",
      "source": [
        "cursor.execute('CREATE TABLE clientes (id INTEGER PRIMARY KEY AUTOINCREMENT, nome VARCHAR (100), idade INT, saldo FLOAT);')"
      ],
      "metadata": {
        "id": "XM6vRti8D9Nu"
      },
      "execution_count": null,
      "outputs": []
    },
    {
      "cell_type": "code",
      "source": [
        "cursor.execute('INSERT INTO clientes (nome, idade, saldo) VALUES (\"Maria\",25, 1200.00)')\n",
        "cursor.execute('INSERT INTO clientes (nome, idade, saldo) VALUES (\"Pedro\",30, 4000.00)')\n",
        "cursor.execute('INSERT INTO clientes (nome, idade, saldo) VALUES (\"Antonio\",20, 2501.00)')\n",
        "cursor.execute('INSERT INTO clientes (nome, idade, saldo) VALUES (\"Teresa\",36, 5700.00)')"
      ],
      "metadata": {
        "colab": {
          "base_uri": "https://localhost:8080/"
        },
        "id": "uOThymvUEDkj",
        "outputId": "b1f7bd10-2244-4042-d198-529fc4298928"
      },
      "execution_count": 14,
      "outputs": [
        {
          "output_type": "execute_result",
          "data": {
            "text/plain": [
              "<sqlite3.Cursor at 0x7e7caae439c0>"
            ]
          },
          "metadata": {},
          "execution_count": 14
        }
      ]
    },
    {
      "cell_type": "markdown",
      "source": [
        "6. Consultas e Funções Agregadas"
      ],
      "metadata": {
        "id": "pncgeOxGEImH"
      }
    },
    {
      "cell_type": "markdown",
      "source": [
        "Escreva consultas SQL para realizar as seguintes tarefas:\n"
      ],
      "metadata": {
        "id": "FJRKJk4VELQA"
      }
    },
    {
      "cell_type": "markdown",
      "source": [
        "a) Selecione o nome e a idade dos clientes com idade superior a 30 anos."
      ],
      "metadata": {
        "id": "movV0gAlESmo"
      }
    },
    {
      "cell_type": "code",
      "source": [
        "dados= cursor.execute('SELECT nome, idade FROM clientes WHERE idade > 30')\n",
        "for clientes in dados:\n",
        "    print(clientes)"
      ],
      "metadata": {
        "colab": {
          "base_uri": "https://localhost:8080/"
        },
        "id": "elEAfO_HEPti",
        "outputId": "362d0d62-6d18-44bd-d769-2aee864c9197"
      },
      "execution_count": 15,
      "outputs": [
        {
          "output_type": "stream",
          "name": "stdout",
          "text": [
            "('Teresa', 36)\n",
            "('Teresa', 36)\n"
          ]
        }
      ]
    },
    {
      "cell_type": "markdown",
      "source": [
        "b) Calcule o saldo médio dos clientes"
      ],
      "metadata": {
        "id": "5ij71tQmEW5h"
      }
    },
    {
      "cell_type": "code",
      "source": [
        "cursor.execute('SELECT AVG (saldo) FROM clientes')\n",
        "saldo_medio = cursor.fetchone()[0]\n",
        "print(f'O saldo médio dos clientes é R$ {saldo_medio:.2f}')"
      ],
      "metadata": {
        "colab": {
          "base_uri": "https://localhost:8080/"
        },
        "id": "G4jGXODVEe9s",
        "outputId": "d3e719fd-83be-4381-fb12-7f4ec6db4dbc"
      },
      "execution_count": 16,
      "outputs": [
        {
          "output_type": "stream",
          "name": "stdout",
          "text": [
            "O saldo médio dos clientes é R$ 3043.00\n"
          ]
        }
      ]
    },
    {
      "cell_type": "markdown",
      "source": [
        "c) Encontre o cliente com o saldo máximo."
      ],
      "metadata": {
        "id": "As3KnNu6Ef7K"
      }
    },
    {
      "cell_type": "code",
      "source": [
        "# Encontrando o saldo máximo\n",
        "cursor.execute('SELECT MAX (saldo) FROM clientes')\n",
        "saldo_maximo = cursor.fetchone()[0]"
      ],
      "metadata": {
        "id": "1C660IxGEh5K"
      },
      "execution_count": 17,
      "outputs": []
    },
    {
      "cell_type": "code",
      "source": [
        "# Encontrando o cliente com o saldo máximo e imprimindo\n",
        "cursor.execute('SELECT nome FROM clientes WHERE saldo = ?', (saldo_maximo,))\n",
        "cliente_max_saldo = cursor.fetchone()\n",
        "print(f'O nome do cliente com o saldo máximo é {cliente_max_saldo[0]}')"
      ],
      "metadata": {
        "colab": {
          "base_uri": "https://localhost:8080/"
        },
        "id": "FLSjMdoXExxe",
        "outputId": "6bc927de-7e02-4279-bfb1-cc2ccb3a2fff"
      },
      "execution_count": 18,
      "outputs": [
        {
          "output_type": "stream",
          "name": "stdout",
          "text": [
            "O nome do cliente com o saldo máximo é Teresa\n"
          ]
        }
      ]
    },
    {
      "cell_type": "markdown",
      "source": [
        "d) Conte quantos clientes têm saldo acima de 1000."
      ],
      "metadata": {
        "id": "q2r1kC0HE1is"
      }
    },
    {
      "cell_type": "code",
      "source": [
        "cursor.execute('SELECT COUNT(*) FROM clientes WHERE saldo > 1000')\n",
        "numero_clientes_acima_1000 = cursor.fetchone()[0]\n",
        "print(f'O número de clientes com saldo acima de R$1000 é de {numero_clientes_acima_1000}')"
      ],
      "metadata": {
        "colab": {
          "base_uri": "https://localhost:8080/"
        },
        "id": "gqrWiz1GE3_t",
        "outputId": "4a2c2ece-7a57-45c0-fa29-d8be31c69821"
      },
      "execution_count": 19,
      "outputs": [
        {
          "output_type": "stream",
          "name": "stdout",
          "text": [
            "O número de clientes com saldo acima de R$1000 é de 6\n"
          ]
        }
      ]
    },
    {
      "cell_type": "markdown",
      "source": [
        "7. Atualização e Remoção com Condições"
      ],
      "metadata": {
        "id": "0teAjPc3GYPQ"
      }
    },
    {
      "cell_type": "markdown",
      "source": [
        " a) Atualize o saldo de um cliente específico."
      ],
      "metadata": {
        "id": "Ug0QV_nAGY75"
      }
    },
    {
      "cell_type": "code",
      "source": [
        "cursor.execute('UPDATE clientes SET saldo = 1000.00 WHERE nome = \"Pedro\"')"
      ],
      "metadata": {
        "colab": {
          "base_uri": "https://localhost:8080/"
        },
        "id": "yj-3EbfwGavh",
        "outputId": "61b0d772-0398-4180-b1c6-6d424557a3ce"
      },
      "execution_count": 20,
      "outputs": [
        {
          "output_type": "execute_result",
          "data": {
            "text/plain": [
              "<sqlite3.Cursor at 0x7e7caae439c0>"
            ]
          },
          "metadata": {},
          "execution_count": 20
        }
      ]
    },
    {
      "cell_type": "code",
      "source": [
        "dados = cursor.execute('SELECT saldo FROM clientes WHERE nome = \"Pedro\"')\n",
        "cliente_atualizado = cursor.fetchone()[0]\n",
        "print(f'O saldo atualizado é de R$ {cliente_atualizado:.2f}')"
      ],
      "metadata": {
        "colab": {
          "base_uri": "https://localhost:8080/"
        },
        "id": "a4V8CzHtGfZ9",
        "outputId": "17e28b1f-ce43-4340-be84-1cb4d7b564a6"
      },
      "execution_count": 21,
      "outputs": [
        {
          "output_type": "stream",
          "name": "stdout",
          "text": [
            "O saldo atualizado é de R$ 1000.00\n"
          ]
        }
      ]
    },
    {
      "cell_type": "markdown",
      "source": [
        "b) Remova um cliente pelo seu ID."
      ],
      "metadata": {
        "id": "AMuRIIxXGgUB"
      }
    },
    {
      "cell_type": "code",
      "source": [
        "cursor.execute('DELETE FROM clientes WHERE id = 3')"
      ],
      "metadata": {
        "colab": {
          "base_uri": "https://localhost:8080/"
        },
        "id": "nnq2R-mOGjW5",
        "outputId": "972ce8e5-add8-403e-fef7-76e6b8080c9d"
      },
      "execution_count": 22,
      "outputs": [
        {
          "output_type": "execute_result",
          "data": {
            "text/plain": [
              "<sqlite3.Cursor at 0x7e7caae439c0>"
            ]
          },
          "metadata": {},
          "execution_count": 22
        }
      ]
    },
    {
      "cell_type": "code",
      "source": [
        "dados= cursor.execute('SELECT * FROM clientes')\n",
        "for clientes in dados:\n",
        "    print(clientes)"
      ],
      "metadata": {
        "colab": {
          "base_uri": "https://localhost:8080/"
        },
        "id": "8uaie5tVGnSO",
        "outputId": "b363c111-d7f6-48d5-be90-f210d955d7bc"
      },
      "execution_count": 23,
      "outputs": [
        {
          "output_type": "stream",
          "name": "stdout",
          "text": [
            "(1, 'Maria', 25, 1200.0)\n",
            "(2, 'Pedro', 30, 1000.0)\n",
            "(4, 'Teresa', 36, 5700.0)\n",
            "(5, 'Maria', 25, 1200.0)\n",
            "(6, 'Pedro', 30, 1000.0)\n",
            "(7, 'Antonio', 20, 2501.0)\n",
            "(8, 'Teresa', 36, 5700.0)\n"
          ]
        }
      ]
    },
    {
      "cell_type": "markdown",
      "source": [
        "8. Junção de Tabelas"
      ],
      "metadata": {
        "id": "jO7vIB7FGrtP"
      }
    },
    {
      "cell_type": "markdown",
      "source": [
        "Crie uma segunda tabela chamada \"compras\" com os campos: id\n",
        "(chave primária), cliente_id (chave estrangeira referenciando o id\n",
        "da tabela \"clientes\"), produto (texto) e valor (real). Insira algumas\n",
        "compras associadas a clientes existentes na tabela \"clientes\".\n",
        "Escreva uma consulta para exibir o nome do cliente, o produto e o\n",
        "valor de cada compra."
      ],
      "metadata": {
        "id": "TL4noy3rGuGD"
      }
    },
    {
      "cell_type": "markdown",
      "source": [
        "Crie uma segunda tabela chamada \"compras\" com os campos: id\n",
        "(chave primária), cliente_id (chave estrangeira referenciando o id\n",
        "da tabela \"clientes\"), produto (texto) e valor (real)"
      ],
      "metadata": {
        "id": "S4JTdZnHG2yH"
      }
    },
    {
      "cell_type": "code",
      "source": [
        "cursor.execute('CREATE TABLE compras (id INTEGER PRIMARY KEY AUTOINCREMENT, cliente_id INTEGER, produto VARCHAR (100), valor FLOAT);')"
      ],
      "metadata": {
        "id": "52K4SHDwG4GM"
      },
      "execution_count": null,
      "outputs": []
    },
    {
      "cell_type": "markdown",
      "source": [
        "Insira algumas compras associadas a clientes existentes na tabela \"clientes\""
      ],
      "metadata": {
        "id": "Lkaw_9bsG8FC"
      }
    },
    {
      "cell_type": "code",
      "source": [
        "cursor.execute('INSERT INTO compras (cliente_id, produto, valor) VALUES (1, \"Notebook\", 4000.00)')\n",
        "cursor.execute('INSERT INTO compras (cliente_id, produto, valor) VALUES (2, \"Cadeira\", 400.00)')\n",
        "cursor.execute('INSERT INTO compras (cliente_id, produto, valor) VALUES (4, \"Impressora\", 1000.00)')"
      ],
      "metadata": {
        "colab": {
          "base_uri": "https://localhost:8080/"
        },
        "id": "sBpcOTaJG-m6",
        "outputId": "11961b92-ba5a-48cc-fa72-e3d463330b57"
      },
      "execution_count": 25,
      "outputs": [
        {
          "output_type": "execute_result",
          "data": {
            "text/plain": [
              "<sqlite3.Cursor at 0x7e7caae439c0>"
            ]
          },
          "metadata": {},
          "execution_count": 25
        }
      ]
    },
    {
      "cell_type": "markdown",
      "source": [
        "Escreva uma consulta para exibir o nome do cliente, o produto e o valor de cada compra."
      ],
      "metadata": {
        "id": "uYw-NkiJHF6A"
      }
    },
    {
      "cell_type": "code",
      "source": [
        "# Consulta para exibir o nome do cliente, produto e valor de cada compra\n",
        "cursor.execute('''SELECT clientes.nome, compras.produto, compras.valor FROM compras JOIN clientes ON compras.cliente_id = clientes.id''')"
      ],
      "metadata": {
        "colab": {
          "base_uri": "https://localhost:8080/"
        },
        "id": "i5ADylzhHIJB",
        "outputId": "c256e6c2-be4b-4257-9a50-be4492673fc4"
      },
      "execution_count": 26,
      "outputs": [
        {
          "output_type": "execute_result",
          "data": {
            "text/plain": [
              "<sqlite3.Cursor at 0x7e7caae439c0>"
            ]
          },
          "metadata": {},
          "execution_count": 26
        }
      ]
    },
    {
      "cell_type": "code",
      "source": [
        "# Exibindo o resultado\n",
        "compras = cursor.fetchall()\n",
        "for compra in compras:\n",
        "    print(f'Nome do cliente: {compra[0]}, Produto: {compra[1]} e Valor da compra R$ {compra[2]:,.2f}')"
      ],
      "metadata": {
        "colab": {
          "base_uri": "https://localhost:8080/"
        },
        "id": "inGHSY-LHv6p",
        "outputId": "b2abc558-84f0-4e2a-c42b-4de07bcf2b54"
      },
      "execution_count": 27,
      "outputs": [
        {
          "output_type": "stream",
          "name": "stdout",
          "text": [
            "Nome do cliente: Maria, Produto: Notebook e Valor da compra R$ 4,000.00\n",
            "Nome do cliente: Pedro, Produto: Cadeira e Valor da compra R$ 400.00\n",
            "Nome do cliente: Teresa, Produto: Impressora e Valor da compra R$ 1,000.00\n",
            "Nome do cliente: Maria, Produto: Notebook e Valor da compra R$ 4,000.00\n",
            "Nome do cliente: Pedro, Produto: Cadeira e Valor da compra R$ 400.00\n",
            "Nome do cliente: Teresa, Produto: Impressora e Valor da compra R$ 1,000.00\n"
          ]
        }
      ]
    },
    {
      "cell_type": "code",
      "source": [
        "conexao.commit()\n",
        "conexao.close()"
      ],
      "metadata": {
        "id": "N0rDLEcXHzij"
      },
      "execution_count": 28,
      "outputs": []
    }
  ]
}